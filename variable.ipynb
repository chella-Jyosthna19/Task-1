{
 "cells": [
  {
   "cell_type": "code",
   "execution_count": 3,
   "id": "5dcd3766-4c69-4471-a72d-3e638c42fb3f",
   "metadata": {},
   "outputs": [
    {
     "name": "stdout",
     "output_type": "stream",
     "text": [
      "25\n"
     ]
    }
   ],
   "source": [
    "age=25\n",
    "print(age)"
   ]
  },
  {
   "cell_type": "code",
   "execution_count": 5,
   "id": "999b3811-ade6-41aa-a77e-5364ce7ee435",
   "metadata": {},
   "outputs": [
    {
     "name": "stdout",
     "output_type": "stream",
     "text": [
      "jyo\n"
     ]
    }
   ],
   "source": [
    "name=\"jyo\"\n",
    "print(name)"
   ]
  },
  {
   "cell_type": "code",
   "execution_count": 7,
   "id": "4392244e-e4c4-4488-9013-31fd8bedd755",
   "metadata": {},
   "outputs": [
    {
     "name": "stdout",
     "output_type": "stream",
     "text": [
      "19.9\n"
     ]
    }
   ],
   "source": [
    "price=19.90\n",
    "print(price)"
   ]
  },
  {
   "cell_type": "code",
   "execution_count": 9,
   "id": "06e3019b-f1cc-4250-8ff2-eda7cf554c14",
   "metadata": {},
   "outputs": [
    {
     "name": "stdout",
     "output_type": "stream",
     "text": [
      "True\n"
     ]
    }
   ],
   "source": [
    "is_active=True\n",
    "print(is_active)"
   ]
  },
  {
   "cell_type": "code",
   "execution_count": 15,
   "id": "9c592739-2df1-4bf3-878e-29837f31e6d7",
   "metadata": {},
   "outputs": [
    {
     "name": "stdout",
     "output_type": "stream",
     "text": [
      "90\n"
     ]
    }
   ],
   "source": [
    "x=90\n",
    "print(x)"
   ]
  },
  {
   "cell_type": "code",
   "execution_count": 17,
   "id": "8b7e3efb-eef2-41cc-bf74-27372e1114a8",
   "metadata": {},
   "outputs": [
    {
     "name": "stdout",
     "output_type": "stream",
     "text": [
      "95\n"
     ]
    }
   ],
   "source": [
    "a=5\n",
    "b=90\n",
    "result=a+b\n",
    "print(result)"
   ]
  },
  {
   "cell_type": "code",
   "execution_count": 19,
   "id": "a8d0c1aa-f257-4044-8b6f-4d1bbe52924f",
   "metadata": {},
   "outputs": [
    {
     "name": "stdout",
     "output_type": "stream",
     "text": [
      "90\n"
     ]
    }
   ],
   "source": [
    "Score=90\n",
    "print(Score)"
   ]
  },
  {
   "cell_type": "code",
   "execution_count": 21,
   "id": "067c0290-6f3a-4db9-9b3d-a0b732b584cb",
   "metadata": {},
   "outputs": [
    {
     "name": "stdout",
     "output_type": "stream",
     "text": [
      "vijay kumar\n"
     ]
    }
   ],
   "source": [
    "first_name=\"vijay\"\n",
    "last_name=\"kumar\"\n",
    "full_name=first_name+\" \"+last_name\n",
    "print(full_name)\n"
   ]
  },
  {
   "cell_type": "code",
   "execution_count": 23,
   "id": "ff57c236-63c0-4259-9aa6-60fc413387f0",
   "metadata": {},
   "outputs": [
    {
     "name": "stdout",
     "output_type": "stream",
     "text": [
      "6942\n"
     ]
    }
   ],
   "source": [
    "l=89\n",
    "b=78\n",
    "a=l*b\n",
    "print(a)"
   ]
  },
  {
   "cell_type": "code",
   "execution_count": 25,
   "id": "e8bab06f-da8d-4641-a2ba-6e9f40022120",
   "metadata": {},
   "outputs": [
    {
     "data": {
      "text/plain": [
       "20"
      ]
     },
     "execution_count": 25,
     "metadata": {},
     "output_type": "execute_result"
    }
   ],
   "source": [
    "a=10\n",
    "b=20\n",
    "a\n",
    "b"
   ]
  },
  {
   "cell_type": "code",
   "execution_count": 27,
   "id": "da89cd3d-ac1f-40a8-98b1-d5aab26fc0a2",
   "metadata": {},
   "outputs": [
    {
     "name": "stdout",
     "output_type": "stream",
     "text": [
      "10\n",
      "20\n"
     ]
    }
   ],
   "source": [
    "a=10\n",
    "b=20\n",
    "print(a)\n",
    "print(b)"
   ]
  },
  {
   "cell_type": "code",
   "execution_count": 29,
   "id": "0e124213-0f5e-4692-a4c8-7771566b53e8",
   "metadata": {},
   "outputs": [
    {
     "name": "stdout",
     "output_type": "stream",
     "text": [
      "10\n",
      "10 20\n",
      "python\n",
      "10 20 python\n"
     ]
    }
   ],
   "source": [
    "print(10)\n",
    "print(10,20)\n",
    "print('python')\n",
    "print(10,20,'python')"
   ]
  },
  {
   "cell_type": "code",
   "execution_count": 31,
   "id": "bccf7086-494c-4acd-a784-869f94c54827",
   "metadata": {},
   "outputs": [
    {
     "name": "stdout",
     "output_type": "stream",
     "text": [
      "50\n"
     ]
    }
   ],
   "source": [
    "num1=20\n",
    "num2=30\n",
    "add=num1+num2\n",
    "print(add)"
   ]
  },
  {
   "cell_type": "code",
   "execution_count": 33,
   "id": "30c6d75b-5f5a-4246-91f8-2aba21c9382f",
   "metadata": {},
   "outputs": [
    {
     "name": "stdout",
     "output_type": "stream",
     "text": [
      "The addition of 20 and 30 is= 50\n"
     ]
    }
   ],
   "source": [
    "num1=20\n",
    "num2=30\n",
    "add=num1+num2\n",
    "print('The addition of',num1,'and',num2,'is=',add)"
   ]
  },
  {
   "cell_type": "code",
   "execution_count": 35,
   "id": "2c62e3dd-a673-4653-a9de-8fcdda75ac48",
   "metadata": {},
   "outputs": [
    {
     "name": "stdout",
     "output_type": "stream",
     "text": [
      "My name is Python and i am 20 years old form hyd\n"
     ]
    }
   ],
   "source": [
    "name='Python'\n",
    "age=20\n",
    "city='hyd'\n",
    "print('My name is',name,'and i am',age,'years old form',city)"
   ]
  },
  {
   "cell_type": "code",
   "execution_count": 37,
   "id": "82c6b5e4-7b6a-44d7-9868-3c9f11186b97",
   "metadata": {},
   "outputs": [
    {
     "name": "stdout",
     "output_type": "stream",
     "text": [
      "The addition of 20 and 30 is= 50\n"
     ]
    }
   ],
   "source": [
    "num1=20\n",
    "num2=30\n",
    "add=num1+num2\n",
    "print('The addition of {} and {} is= {}'.format(num1,num2,add))"
   ]
  },
  {
   "cell_type": "code",
   "execution_count": 39,
   "id": "43abe237-4679-4786-930c-4fd376d7db8a",
   "metadata": {},
   "outputs": [
    {
     "name": "stdout",
     "output_type": "stream",
     "text": [
      "hello my name is Python, and i am 20 years old from hyd\n"
     ]
    }
   ],
   "source": [
    "name='Python'\n",
    "age=20\n",
    "city='hyd'\n",
    "print('hello my name is {}, and i am {} years old from {}'.format(name,age,city))"
   ]
  },
  {
   "cell_type": "code",
   "execution_count": 41,
   "id": "e8c7ba76-c06f-44f2-aee8-bead615b2cd9",
   "metadata": {},
   "outputs": [
    {
     "name": "stdout",
     "output_type": "stream",
     "text": [
      "The avrage of 100, 25, and 333 is= 152.66666666666666 or 152.67\n"
     ]
    }
   ],
   "source": [
    "num1=100\n",
    "num2=25\n",
    "num3=333\n",
    "avg=(num1+num2+num3)/3 \n",
    "avg1=round((num1+num2+num3)/3,2)\n",
    "print('The avrage of {}, {}, and {} is= {} or {}'.format(num1,num2,num3,\n",
    "avg,avg1)) "
   ]
  },
  {
   "cell_type": "code",
   "execution_count": 43,
   "id": "9a5a8989-df35-44c2-80b2-bba6d685ae56",
   "metadata": {},
   "outputs": [
    {
     "name": "stdout",
     "output_type": "stream",
     "text": [
      "The addition of 20 and 30 is= 50\n"
     ]
    }
   ],
   "source": [
    "num1=20\n",
    "num2=30\n",
    "add=num1+num2\n",
    "print(f'The addition of {num1} and {num2} is= {add}') "
   ]
  },
  {
   "cell_type": "code",
   "execution_count": 45,
   "id": "0a80a98e-4b03-46fb-bad1-4cb875ba0fe3",
   "metadata": {},
   "outputs": [
    {
     "name": "stdout",
     "output_type": "stream",
     "text": [
      "The avrage of 100, 25 and 333 is = 152.67\n"
     ]
    }
   ],
   "source": [
    "num1=100\n",
    "num2=25\n",
    "num3=333\n",
    "avg=round((num1+num2+num3)/3,2)\n",
    "print(f'The avrage of {num1}, {num2} and {num3} is = {avg}')"
   ]
  },
  {
   "cell_type": "code",
   "execution_count": 47,
   "id": "552dd3f8-28b5-47b7-8253-310414d4a84d",
   "metadata": {},
   "outputs": [
    {
     "name": "stdout",
     "output_type": "stream",
     "text": [
      "The addition of 10 and 20 is= 30\n",
      "The addition of 10 and 20 is= 30\n",
      "The addition of 10 and 20 is= 30\n"
     ]
    }
   ],
   "source": [
    "num1=10\n",
    "num2=20\n",
    "add = num1+ num2\n",
    "print('The addition of',num1,'and',num2,'is=',add)\n",
    "print('The addition of {} and {} is= {}'.format(num1,num2,add))\n",
    "print(f'The addition of {num1} and {num2} is= {add}')"
   ]
  },
  {
   "cell_type": "code",
   "execution_count": 49,
   "id": "c8b7321f-02a9-4a29-b4ed-49a00f9e0bda",
   "metadata": {},
   "outputs": [
    {
     "name": "stdout",
     "output_type": "stream",
     "text": [
      "hello\n",
      "good moorning\n"
     ]
    }
   ],
   "source": [
    "print('hello') \n",
    "print('good moorning')"
   ]
  },
  {
   "cell_type": "code",
   "execution_count": 51,
   "id": "cbdcfba9-ed4a-4a75-ad76-0cd621f62527",
   "metadata": {},
   "outputs": [
    {
     "name": "stdout",
     "output_type": "stream",
     "text": [
      "hello world good day\n"
     ]
    }
   ],
   "source": [
    "print('hello', end=' ')\n",
    "print('world good day')"
   ]
  },
  {
   "cell_type": "code",
   "execution_count": 53,
   "id": "1d389c79-b6c1-4094-a9b2-77508881acae",
   "metadata": {},
   "outputs": [
    {
     "name": "stdout",
     "output_type": "stream",
     "text": [
      "hello--->hai--->how are you\n"
     ]
    }
   ],
   "source": [
    "print('hello','hai','how are you',sep='--->')"
   ]
  },
  {
   "cell_type": "code",
   "execution_count": 55,
   "id": "553c0782-141d-4b39-9c10-177e25a6e27c",
   "metadata": {},
   "outputs": [
    {
     "name": "stdout",
     "output_type": "stream",
     "text": [
      "hello@hai@how are you\n"
     ]
    }
   ],
   "source": [
    "print('hello','hai','how are you',sep='@')"
   ]
  },
  {
   "cell_type": "code",
   "execution_count": 57,
   "id": "57cd9c40-f0a1-4092-894e-05be19871be0",
   "metadata": {},
   "outputs": [
    {
     "name": "stdout",
     "output_type": "stream",
     "text": [
      "hello&hai&how are you\n"
     ]
    }
   ],
   "source": [
    "print('hello','hai','how are you',sep='&')"
   ]
  },
  {
   "cell_type": "code",
   "execution_count": 59,
   "id": "bca46593-94f6-4f27-86c9-b1128b58532f",
   "metadata": {},
   "outputs": [
    {
     "name": "stdout",
     "output_type": "stream",
     "text": [
      "hello hai how are you\n"
     ]
    }
   ],
   "source": [
    "print('hello','hai','how are you',sep=' ')"
   ]
  },
  {
   "cell_type": "code",
   "execution_count": 61,
   "id": "165a0835-1ca0-4403-aadd-0fa72a0a1a87",
   "metadata": {},
   "outputs": [
    {
     "name": "stdout",
     "output_type": "stream",
     "text": [
      "hello/hai/how are you\n"
     ]
    }
   ],
   "source": [
    "print('hello','hai','how are you',sep='/')"
   ]
  },
  {
   "cell_type": "code",
   "execution_count": 63,
   "id": "aede51dd-c9ef-43a4-a29d-fb66e975657e",
   "metadata": {},
   "outputs": [],
   "source": [
    "import sys\n",
    "import keyword\n",
    "import operator\n",
    "from datetime import datetime\n",
    "import os"
   ]
  },
  {
   "cell_type": "code",
   "execution_count": 65,
   "id": "ed4c97fe-5464-4a7c-b599-f96ad230de54",
   "metadata": {},
   "outputs": [
    {
     "name": "stdout",
     "output_type": "stream",
     "text": [
      "['False', 'None', 'True', 'and', 'as', 'assert', 'async', 'await', 'break', 'class', 'continue', 'def', 'del', 'elif', 'else', 'except', 'finally', 'for', 'from', 'global', 'if', 'import', 'in', 'is', 'lambda', 'nonlocal', 'not', 'or', 'pass', 'raise', 'return', 'try', 'while', 'with', 'yield']\n"
     ]
    }
   ],
   "source": [
    "print(keyword.kwlist)"
   ]
  },
  {
   "cell_type": "code",
   "execution_count": 67,
   "id": "04faf92f-7334-4f51-99cc-68305bbcd9b3",
   "metadata": {},
   "outputs": [
    {
     "data": {
      "text/plain": [
       "35"
      ]
     },
     "execution_count": 67,
     "metadata": {},
     "output_type": "execute_result"
    }
   ],
   "source": [
    "len(keyword.kwlist)"
   ]
  },
  {
   "cell_type": "code",
   "execution_count": 1,
   "id": "a11e0219-e397-40f7-b3c3-69c2759a6499",
   "metadata": {},
   "outputs": [
    {
     "data": {
      "text/plain": [
       "30"
      ]
     },
     "execution_count": 1,
     "metadata": {},
     "output_type": "execute_result"
    }
   ],
   "source": [
    "p = 20\n",
    "p = p + 10 \n",
    "p"
   ]
  },
  {
   "cell_type": "code",
   "execution_count": 3,
   "id": "a1cfc695-48ee-4ed3-8568-de9af7e9b913",
   "metadata": {},
   "outputs": [
    {
     "name": "stdout",
     "output_type": "stream",
     "text": [
      "10\n",
      "2.57\n",
      "Python Language\n"
     ]
    }
   ],
   "source": [
    "intvar = 10\n",
    "floatvar = 2.57\n",
    "strvar = \"Python Language\" \n",
    "print(intvar)\n",
    "print(floatvar)\n",
    "print(strvar)"
   ]
  },
  {
   "cell_type": "code",
   "execution_count": 5,
   "id": "b75db0d6-523d-425c-9826-0ea5cf207fb2",
   "metadata": {},
   "outputs": [
    {
     "name": "stdout",
     "output_type": "stream",
     "text": [
      "10\n",
      "2.57\n",
      "Python Language\n"
     ]
    }
   ],
   "source": [
    "intvar , floatvar , strvar = 10,2.57,\"Python Language\" \n",
    "print(intvar)\n",
    "print(floatvar)\n",
    "print(strvar)"
   ]
  },
  {
   "cell_type": "code",
   "execution_count": 7,
   "id": "cef9a670-5651-416c-ba33-6f707e6bd67d",
   "metadata": {},
   "outputs": [
    {
     "name": "stdout",
     "output_type": "stream",
     "text": [
      "44 44 44 44\n"
     ]
    }
   ],
   "source": [
    "p1 = p2 = p3 = p4 = 44\n",
    "print(p1,p2,p3,p4)"
   ]
  },
  {
   "cell_type": "code",
   "execution_count": 25,
   "id": "bae4f14e-b188-4ab6-b547-2c8d23bab1a0",
   "metadata": {},
   "outputs": [
    {
     "name": "stdout",
     "output_type": "stream",
     "text": [
      "HELLO PYTHON\n"
     ]
    }
   ],
   "source": [
    "str1 = \"HELLO PYTHON\"\n",
    "print(str1)"
   ]
  },
  {
   "cell_type": "code",
   "execution_count": 27,
   "id": "5f18eb36-a0b6-4d1d-a5af-14c0fe0c29de",
   "metadata": {},
   "outputs": [
    {
     "name": "stdout",
     "output_type": "stream",
     "text": [
      "Hello World\n"
     ]
    }
   ],
   "source": [
    "mystr = 'Hello World' \n",
    "print(mystr)"
   ]
  },
  {
   "cell_type": "code",
   "execution_count": 31,
   "id": "def2229e-0e75-42c0-989b-0dceb7e0adf4",
   "metadata": {},
   "outputs": [
    {
     "name": "stdout",
     "output_type": "stream",
     "text": [
      "Hello\n",
      "        World \n"
     ]
    }
   ],
   "source": [
    "mystr = '''Hello\n",
    "        World ''' \n",
    "print(mystr)\n"
   ]
  },
  {
   "cell_type": "code",
   "execution_count": 37,
   "id": "b9c467ac-4d61-438a-b432-21901df9c1e0",
   "metadata": {},
   "outputs": [
    {
     "name": "stdout",
     "output_type": "stream",
     "text": [
      "Happy Monday Everyone\n"
     ]
    }
   ],
   "source": [
    "mystr = ('Happy '\n",
    "        'Monday '\n",
    "        'Everyone')\n",
    "print(mystr)"
   ]
  },
  {
   "cell_type": "code",
   "execution_count": 39,
   "id": "06467bb4-811d-400a-9ac8-1405ddb6cfb2",
   "metadata": {},
   "outputs": [
    {
     "data": {
      "text/plain": [
       "'Woohoo Woohoo Woohoo Woohoo Woohoo '"
      ]
     },
     "execution_count": 39,
     "metadata": {},
     "output_type": "execute_result"
    }
   ],
   "source": [
    "mystr2 = 'Woohoo '\n",
    "mystr2 = mystr2*5\n",
    "mystr2"
   ]
  },
  {
   "cell_type": "code",
   "execution_count": 41,
   "id": "83293957-ddb2-49b6-b088-e028aacee80a",
   "metadata": {},
   "outputs": [
    {
     "data": {
      "text/plain": [
       "35"
      ]
     },
     "execution_count": 41,
     "metadata": {},
     "output_type": "execute_result"
    }
   ],
   "source": [
    "len(mystr2)"
   ]
  },
  {
   "cell_type": "code",
   "execution_count": 45,
   "id": "6a4ecfc3-378e-4227-aac3-57e8ae16de9f",
   "metadata": {},
   "outputs": [
    {
     "name": "stdout",
     "output_type": "stream",
     "text": [
      "programmimg\n"
     ]
    }
   ],
   "source": [
    "str=\"programmimg\"\n",
    "print(str)"
   ]
  },
  {
   "cell_type": "code",
   "execution_count": 47,
   "id": "19847118-0a79-4937-adb7-9a7b0e97487f",
   "metadata": {},
   "outputs": [
    {
     "data": {
      "text/plain": [
       "'p'"
      ]
     },
     "execution_count": 47,
     "metadata": {},
     "output_type": "execute_result"
    }
   ],
   "source": [
    "str[0]"
   ]
  },
  {
   "cell_type": "code",
   "execution_count": 49,
   "id": "70f3c74e-a665-4fd6-9c65-5d8e37b13b4a",
   "metadata": {},
   "outputs": [
    {
     "data": {
      "text/plain": [
       "'r'"
      ]
     },
     "execution_count": 49,
     "metadata": {},
     "output_type": "execute_result"
    }
   ],
   "source": [
    "str[-7]"
   ]
  },
  {
   "cell_type": "code",
   "execution_count": 51,
   "id": "f8a46946-1452-47c6-96f2-a6f437c31bc2",
   "metadata": {},
   "outputs": [
    {
     "data": {
      "text/plain": [
       "'g'"
      ]
     },
     "execution_count": 51,
     "metadata": {},
     "output_type": "execute_result"
    }
   ],
   "source": [
    "str[len(str)-1] "
   ]
  },
  {
   "cell_type": "code",
   "execution_count": 53,
   "id": "074be04c-1f9d-4775-88cf-965c6e28211d",
   "metadata": {},
   "outputs": [
    {
     "data": {
      "text/plain": [
       "'a'"
      ]
     },
     "execution_count": 53,
     "metadata": {},
     "output_type": "execute_result"
    }
   ],
   "source": [
    "str[5]"
   ]
  },
  {
   "cell_type": "code",
   "execution_count": 55,
   "id": "52e79565-8ee3-4491-8985-c3d8677916f9",
   "metadata": {},
   "outputs": [
    {
     "data": {
      "text/plain": [
       "'progr'"
      ]
     },
     "execution_count": 55,
     "metadata": {},
     "output_type": "execute_result"
    }
   ],
   "source": [
    "str[0:5]"
   ]
  },
  {
   "cell_type": "code",
   "execution_count": 57,
   "id": "b73ff855-4443-4cc7-b6c2-b7f4f84325b9",
   "metadata": {},
   "outputs": [
    {
     "data": {
      "text/plain": [
       "''"
      ]
     },
     "execution_count": 57,
     "metadata": {},
     "output_type": "execute_result"
    }
   ],
   "source": [
    "str[-6:5]"
   ]
  },
  {
   "cell_type": "code",
   "execution_count": 59,
   "id": "d728c4c2-5d89-4239-b32f-6552f1157e95",
   "metadata": {},
   "outputs": [
    {
     "data": {
      "text/plain": [
       "'prog'"
      ]
     },
     "execution_count": 59,
     "metadata": {},
     "output_type": "execute_result"
    }
   ],
   "source": [
    "str[:4]"
   ]
  },
  {
   "cell_type": "code",
   "execution_count": 67,
   "id": "bfa8ea61-730c-42fc-b2f8-ae4b0d0fc1f8",
   "metadata": {},
   "outputs": [
    {
     "name": "stdout",
     "output_type": "stream",
     "text": [
      "hellomorning\n"
     ]
    }
   ],
   "source": [
    "s1=\"hello\"\n",
    "s2= \"morning\"\n",
    "s3=s1 + s2\n",
    "print(s3)"
   ]
  },
  {
   "cell_type": "code",
   "execution_count": null,
   "id": "ef84c5fd-5abd-4492-89ed-8c6a390e99be",
   "metadata": {},
   "outputs": [],
   "source": []
  }
 ],
 "metadata": {
  "kernelspec": {
   "display_name": "Python [conda env:base] *",
   "language": "python",
   "name": "conda-base-py"
  },
  "language_info": {
   "codemirror_mode": {
    "name": "ipython",
    "version": 3
   },
   "file_extension": ".py",
   "mimetype": "text/x-python",
   "name": "python",
   "nbconvert_exporter": "python",
   "pygments_lexer": "ipython3",
   "version": "3.12.7"
  }
 },
 "nbformat": 4,
 "nbformat_minor": 5
}
